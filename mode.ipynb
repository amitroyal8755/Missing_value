{
  "nbformat": 4,
  "nbformat_minor": 0,
  "metadata": {
    "colab": {
      "private_outputs": true,
      "provenance": [],
      "authorship_tag": "ABX9TyNMF4GVY+DHroGzNBl2lE2B",
      "include_colab_link": true
    },
    "kernelspec": {
      "name": "python3",
      "display_name": "Python 3"
    },
    "language_info": {
      "name": "python"
    }
  },
  "cells": [
    {
      "cell_type": "markdown",
      "metadata": {
        "id": "view-in-github",
        "colab_type": "text"
      },
      "source": [
        "<a href=\"https://colab.research.google.com/github/amitroyal8755/Missing_value/blob/main/mode.ipynb\" target=\"_parent\"><img src=\"https://colab.research.google.com/assets/colab-badge.svg\" alt=\"Open In Colab\"/></a>"
      ]
    },
    {
      "cell_type": "code",
      "execution_count": null,
      "metadata": {
        "id": "o2bMCQ_S860A"
      },
      "outputs": [],
      "source": [
        "import pandas as pd\n",
        "import numpy as np\n",
        "import missingno as msno\n",
        "import matplotlib.pyplot as plt"
      ]
    },
    {
      "cell_type": "code",
      "source": [
        "df=pd.read_csv(\"https://raw.githubusercontent.com/campusx-official/100-days-of-machine-learning/main/day37-handling-missing-categorical-data/train.csv\",usecols=['GarageQual','FireplaceQu','SalePrice'])"
      ],
      "metadata": {
        "id": "XpDxfmwp9AwR"
      },
      "execution_count": null,
      "outputs": []
    },
    {
      "cell_type": "code",
      "source": [
        "df.head()"
      ],
      "metadata": {
        "id": "47y_bGzI9Hwd"
      },
      "execution_count": null,
      "outputs": []
    },
    {
      "cell_type": "code",
      "source": [
        "df.columns"
      ],
      "metadata": {
        "id": "LqLS9wxi9S-e"
      },
      "execution_count": null,
      "outputs": []
    },
    {
      "cell_type": "code",
      "source": [
        "import missingno as msno"
      ],
      "metadata": {
        "id": "S6q1eQ109Za8"
      },
      "execution_count": null,
      "outputs": []
    },
    {
      "cell_type": "code",
      "source": [
        "fig, ax = plt.subplots(figsize=(6, 4))  # Adjust the width and height as needed\n",
        "\n",
        "# Generate the missing values bar plot\n",
        "msno.matrix(df,ax=ax)\n",
        "\n",
        "# Show the plot\n",
        "plt.show()"
      ],
      "metadata": {
        "id": "4KGltCh497JC"
      },
      "execution_count": null,
      "outputs": []
    },
    {
      "cell_type": "code",
      "source": [
        "msno.heatmap(df)"
      ],
      "metadata": {
        "collapsed": true,
        "id": "Z_F3iQjz93qY"
      },
      "execution_count": null,
      "outputs": []
    },
    {
      "cell_type": "code",
      "source": [
        "df.isnull().mean()*100"
      ],
      "metadata": {
        "id": "FPhAvkYN_AJ5"
      },
      "execution_count": null,
      "outputs": []
    },
    {
      "cell_type": "code",
      "source": [
        "df.columns"
      ],
      "metadata": {
        "id": "SQvYBMZh_Kh-"
      },
      "execution_count": null,
      "outputs": []
    },
    {
      "cell_type": "code",
      "source": [
        "fig, ax = plt.subplots(figsize=(6, 4))  # Adjust the width and height as needed\n",
        "\n",
        "# Generate the missing values bar plot\n",
        "msno.bar(df, ax=ax)\n",
        "\n",
        "# Show the plot\n",
        "plt.show()"
      ],
      "metadata": {
        "id": "iWEPKLx4_V8D"
      },
      "execution_count": null,
      "outputs": []
    },
    {
      "cell_type": "code",
      "source": [
        "df.columns"
      ],
      "metadata": {
        "id": "7eOey71a_1Wy"
      },
      "execution_count": null,
      "outputs": []
    },
    {
      "cell_type": "code",
      "source": [
        "df['GarageQual'].value_counts().sort_values(ascending=False).plot.bar()"
      ],
      "metadata": {
        "id": "rI1eGga1CBFP"
      },
      "execution_count": null,
      "outputs": []
    },
    {
      "cell_type": "code",
      "source": [
        "[i for i in df['GarageQual'].unique() if pd.notna(i)]"
      ],
      "metadata": {
        "id": "0Kzw01DsCRqk"
      },
      "execution_count": null,
      "outputs": []
    },
    {
      "cell_type": "code",
      "source": [
        "df['GarageQual'].mode()"
      ],
      "metadata": {
        "id": "KQIhzpNEBKF4"
      },
      "execution_count": null,
      "outputs": []
    },
    {
      "cell_type": "code",
      "source": [],
      "metadata": {
        "id": "-P4s41mQD2MG"
      },
      "execution_count": null,
      "outputs": []
    },
    {
      "cell_type": "markdown",
      "source": [
        "chart ta with respect house price  v/s chart missing with respect to house price\n",
        "\n",
        "chart ta+missing similar chart to chart ta with respect house price\n"
      ],
      "metadata": {
        "id": "2odq6ZIeD5yr"
      }
    },
    {
      "cell_type": "code",
      "source": [],
      "metadata": {
        "id": "IEekLHz2FzGl"
      },
      "execution_count": null,
      "outputs": []
    },
    {
      "cell_type": "code",
      "source": [
        "fig=plt.figure()\n",
        "ax=fig.add_subplot(111)\n",
        "df[df['GarageQual']==\"TA\"][\"SalePrice\"].plot(kind=\"kde\", ax=ax)\n",
        "df[df['GarageQual'].isnull()][\"SalePrice\"].plot(kind=\"kde\",ax=ax,color=\"red\")\n",
        "line,_=ax.get_legend_handles_labels()\n",
        "labels=[\"house price with ta\",\"house price with na\"]\n",
        "ax.legend(line,labels,loc=\"best\")\n",
        "plt.show()"
      ],
      "metadata": {
        "id": "QBFl0XM8EBUx"
      },
      "execution_count": null,
      "outputs": []
    },
    {
      "cell_type": "code",
      "source": [
        "orignal_ta=df[df['GarageQual']==\"TA\"][\"SalePrice\"]"
      ],
      "metadata": {
        "id": "fMLvVNBPH6dv"
      },
      "execution_count": null,
      "outputs": []
    },
    {
      "cell_type": "code",
      "source": [
        "df['GarageQual'].fillna(\"TA\",inplace=True)"
      ],
      "metadata": {
        "id": "uVIfuqnBEoge"
      },
      "execution_count": null,
      "outputs": []
    },
    {
      "cell_type": "code",
      "source": [
        "# msno.matrix(df)\n",
        "fig=plt.figure()\n",
        "ax=fig.add_subplot(111)\n",
        "orignal_ta.plot(kind=\"kde\", ax=ax)\n",
        "df[df['GarageQual']==\"TA\"][\"SalePrice\"].plot(kind=\"kde\", ax=ax)\n",
        "line,_=ax.get_legend_handles_labels()\n",
        "labels=[\"house price with orignal ta\",\"house price with ta+na\"]\n",
        "ax.legend(line,labels,loc=\"best\")\n",
        "plt.show()"
      ],
      "metadata": {
        "id": "gmZRoKTBHOEz"
      },
      "execution_count": null,
      "outputs": []
    },
    {
      "cell_type": "markdown",
      "source": [
        "\"It has overlapped, then it is okay if we replace it with 'TA'.\""
      ],
      "metadata": {
        "id": "Jv4b87hYI8w1"
      }
    },
    {
      "cell_type": "code",
      "source": [
        "df.columns"
      ],
      "metadata": {
        "id": "hQ827c3eJ2cY"
      },
      "execution_count": null,
      "outputs": []
    },
    {
      "cell_type": "code",
      "source": [
        "df[\"FireplaceQu\"].unique()"
      ],
      "metadata": {
        "id": "qzY9YwvTKGNo"
      },
      "execution_count": null,
      "outputs": []
    },
    {
      "cell_type": "code",
      "source": [
        "fig=plt.figure()\n",
        "ax=fig.add_subplot(111)\n",
        "df[df['FireplaceQu']==\"TA\"][\"SalePrice\"].plot(kind=\"kde\", ax=ax)\n",
        "df[df['FireplaceQu'].isnull()][\"SalePrice\"].plot(kind=\"kde\",ax=ax,color=\"red\")\n",
        "line,_=ax.get_legend_handles_labels()\n",
        "labels=[\"house price with ta\",\"house price with na\"]\n",
        "ax.legend(line,labels,loc=\"best\")\n",
        "plt.show()"
      ],
      "metadata": {
        "id": "pikw2FBQHVVi"
      },
      "execution_count": null,
      "outputs": []
    },
    {
      "cell_type": "code",
      "source": [
        "orignal_ta=df[df['FireplaceQu']==\"TA\"][\"SalePrice\"]"
      ],
      "metadata": {
        "id": "4z07c2SaKPyj"
      },
      "execution_count": null,
      "outputs": []
    },
    {
      "cell_type": "code",
      "source": [
        "df['FireplaceQu'].fillna(\"TA\",inplace=True)"
      ],
      "metadata": {
        "id": "AK4LKOFuK9ko"
      },
      "execution_count": null,
      "outputs": []
    },
    {
      "cell_type": "code",
      "source": [
        "fig=plt.figure()\n",
        "ax=fig.add_subplot(111)\n",
        "orignal_ta.plot(kind=\"kde\", ax=ax)\n",
        "df[df['FireplaceQu']==\"TA\"][\"SalePrice\"].plot(kind=\"kde\", ax=ax)\n",
        "line,_=ax.get_legend_handles_labels()\n",
        "labels=[\"house price with orignal ta\",\"house price with ta+na\"]\n",
        "ax.legend(line,labels,loc=\"best\")\n",
        "plt.show()"
      ],
      "metadata": {
        "id": "UEDM7e4XKdB4"
      },
      "execution_count": null,
      "outputs": []
    },
    {
      "cell_type": "markdown",
      "source": [
        "\"it has not overlapped, then it is not okay to replace it with 'TA'.\""
      ],
      "metadata": {
        "id": "Ho-QIaUmLKL4"
      }
    },
    {
      "cell_type": "code",
      "source": [],
      "metadata": {
        "id": "wkowtVSFKonc"
      },
      "execution_count": null,
      "outputs": []
    }
  ]
}