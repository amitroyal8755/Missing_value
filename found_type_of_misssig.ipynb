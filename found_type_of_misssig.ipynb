{
  "nbformat": 4,
  "nbformat_minor": 0,
  "metadata": {
    "colab": {
      "private_outputs": true,
      "provenance": [],
      "authorship_tag": "ABX9TyOvmtb5LHR0LMl7QhYIOLfl",
      "include_colab_link": true
    },
    "kernelspec": {
      "name": "python3",
      "display_name": "Python 3"
    },
    "language_info": {
      "name": "python"
    }
  },
  "cells": [
    {
      "cell_type": "markdown",
      "metadata": {
        "id": "view-in-github",
        "colab_type": "text"
      },
      "source": [
        "<a href=\"https://colab.research.google.com/github/amitroyal8755/Missing_value/blob/main/found_type_of_misssig.ipynb\" target=\"_parent\"><img src=\"https://colab.research.google.com/assets/colab-badge.svg\" alt=\"Open In Colab\"/></a>"
      ]
    },
    {
      "cell_type": "markdown",
      "source": [
        "\n",
        "\n",
        "### Notebook Summary: Analyzing Missing Data Patterns in the Titanic Dataset\n",
        "\n",
        "#### 1. Loading Libraries and Dataset\n",
        "- **Libraries Used**: pandas, seaborn, matplotlib, numpy.\n",
        "- **Dataset**: Titanic dataset loaded using `sns.load_dataset(\"titanic\")`.\n",
        "\n",
        "#### 2. Testing for MCAR (Missing Completely at Random)\n",
        "- **Function**: `test_mcar(df, col)`\n",
        "  - **Purpose**: Tests if missing data in a specific column is completely random.\n",
        "  - **Method**: Creates a contingency table and performs a chi-squared test.\n",
        "  - **Application**: Tested on the `age` column of the Titanic dataset.\n",
        "  - **Finding**: Confirmed that `age` has MCAR (p-value > 0.05 indicates randomness).\n",
        "\n",
        "#### 3. Testing for Missingness Type (MAR or MNAR)\n",
        "- **Function**: `check_missingness(data, column)`\n",
        "  - **Purpose**: Determines if missing data in a specified column is MAR (Missing at Random) or MNAR (Missing Not at Random).\n",
        "  - **Method**: Encodes categorical variables, performs chi-squared tests for categorical variables, and t-tests for continuous variables.\n",
        "  - **Application**: Applied to a custom dataset `Extended_MNAR_Missingness_DataFrame`.\n",
        "  - **Finding**: Identified missingness type (MAR or MNAR) based on statistical test results.\n",
        "\n",
        "#### 4. Visualizing Missing Data\n",
        "- **Library Used**: `missingno`\n",
        "  - **Visualizations**:\n",
        "    - **Matrix Plot**: Shows the location and amount of missing data in the dataset.\n",
        "    - **Heatmap**: Displays correlations between missing values in different columns.\n",
        "    - **Bar Plot**: Shows the percentage of missing values in each column.\n",
        "    - **Dendrogram**: Illustrates the hierarchical clustering of missing data patterns.\n",
        "  - **Insights**:\n",
        "    - **Deck Column**: High percentage of missing values (>80%), unique missing pattern.\n",
        "    - **Age Column**: Approximately 20% missing values, MCAR confirmed.\n",
        "    - **Correlation Observations**:\n",
        "      - **Embarked and Embark_town**: Strong correlation, missing values often occur together.\n",
        "      - **Deck and Other Columns**: Weak correlations, classified as MAR due to weak relationships.\n",
        "    - **Dendrogram Analysis**:\n",
        "      - **Deck**: Unique missing pattern, different from other columns.\n",
        "      - **Age and Alone**: Similar missing data patterns, likely to be missing together.\n",
        "      - **High Similarity Group**: Columns like `pclass`, `embarked`, `embark_town`, `sex`, `survived`, `sibsp`, `parch`, and `fare` have similar missing data patterns.\n",
        "\n",
        "### Practical Implications\n",
        "- **Imputation Strategy**: Treat columns within the same cluster similarly for imputation purposes.\n",
        "- **Data Quality Improvement**: Investigate columns with unique missing patterns, such as `deck`, to understand underlying issues in data collection.\n",
        "\n"
      ],
      "metadata": {
        "id": "2Tiok6UVVGwB"
      }
    },
    {
      "cell_type": "code",
      "execution_count": null,
      "metadata": {
        "id": "m32C6peKoRGx"
      },
      "outputs": [],
      "source": [
        "import pandas as pd\n",
        "import seaborn as sns\n",
        "import matplotlib as plt\n",
        "import numpy as np"
      ]
    },
    {
      "cell_type": "code",
      "source": [
        "df=sns.load_dataset(\"titanic\")"
      ],
      "metadata": {
        "id": "dsosNQ70obGX"
      },
      "execution_count": null,
      "outputs": []
    },
    {
      "cell_type": "code",
      "source": [
        "import pandas as pd\n",
        "from scipy.stats import chi2_contingency, combine_pvalues\n",
        "\n",
        "def test_mcar(df, col):\n",
        "    df1 = df.copy()\n",
        "    df1[\"missing_indicator\"] = df1[col].isnull().astype(int)\n",
        "    columns_to_test = df1.columns.drop([col, \"missing_indicator\"])\n",
        "\n",
        "    p_values = []\n",
        "\n",
        "    for i in columns_to_test:\n",
        "        # print(f\"Processing column: {i}, Type: {df1[i].dtype}\")\n",
        "        if df1[i].isnull().any():\n",
        "            if df1[i].dtype.name == 'category':\n",
        "                df1[i] = df1[i].cat.add_categories('missing').fillna('missing')\n",
        "            else:\n",
        "                df1[i] = df1[i].fillna(\"missing\")\n",
        "\n",
        "        contingency_table = pd.crosstab(df1[i], df1[\"missing_indicator\"])\n",
        "        _, p, _, _ = chi2_contingency(contingency_table)\n",
        "        p_values.append(p)\n",
        "\n",
        "    combined_p_value = combine_pvalues(p_values)[1]\n",
        "\n",
        "    return combined_p_value"
      ],
      "metadata": {
        "id": "1u6O-ZrN7Pzx"
      },
      "execution_count": null,
      "outputs": []
    },
    {
      "cell_type": "code",
      "source": [
        "test_mcar(df,\"age\")"
      ],
      "metadata": {
        "id": "-JFfykVW5Dmb"
      },
      "execution_count": null,
      "outputs": []
    },
    {
      "cell_type": "code",
      "source": [
        "import pandas as pd\n",
        "import numpy as np\n",
        "import seaborn as sns\n",
        "import matplotlib.pyplot as plt\n",
        "from scipy.stats import chi2_contingency, ttest_ind\n",
        "from sklearn.preprocessing import LabelEncoder\n",
        "\n",
        "def check_missingness(data, column):\n",
        "\n",
        "    missing = data[column].isnull()\n",
        "    # Encode categorical variables only if necessary\n",
        "    data_encoded = data.copy()\n",
        "    label_encoders = {}\n",
        "    for col in data_encoded.columns:\n",
        "        if data_encoded[col].dtype == 'object' or pd.api.types.is_categorical_dtype(data_encoded[col]):\n",
        "            le = LabelEncoder()\n",
        "            data_encoded[col] = le.fit_transform(data_encoded[col].astype(str))\n",
        "            label_encoders[col] = le\n",
        "\n",
        "    # Statistical tests\n",
        "    result = 'Undetermined'\n",
        "\n",
        "    for col in data.columns:\n",
        "        if col != column and data[col].notnull().sum() > 0:\n",
        "            if data[col].dtype == 'object' or pd.api.types.is_categorical_dtype(data[col]):\n",
        "                # Chi-squared test for categorical variables\n",
        "                contingency_table = pd.crosstab(missing, data[col])\n",
        "                chi2, p, dof, expected = chi2_contingency(contingency_table)\n",
        "                if p < 0.05:\n",
        "                    result = 'MAR'\n",
        "                    break\n",
        "            else:\n",
        "                # T-test for continuous variables\n",
        "                t_stat, p = ttest_ind(data_encoded.loc[missing, col].dropna(), data_encoded.loc[~missing, col].dropna())\n",
        "                if p < 0.05:\n",
        "                    result = 'MAR'\n",
        "                    break\n",
        "\n",
        "    if result == 'Undetermined':\n",
        "        result = 'MNAR'\n",
        "\n",
        "    return result\n"
      ],
      "metadata": {
        "id": "Q6pZ9B8xXKEx"
      },
      "execution_count": null,
      "outputs": []
    },
    {
      "cell_type": "code",
      "source": [
        "df=pd.read_csv(\"/content/Extended_MNAR_Missingness_DataFrame.csv\")"
      ],
      "metadata": {
        "id": "vwJACbt1-wqA"
      },
      "execution_count": null,
      "outputs": []
    },
    {
      "cell_type": "code",
      "source": [
        "df.head()"
      ],
      "metadata": {
        "id": "r2o7UEduAn5O"
      },
      "execution_count": null,
      "outputs": []
    },
    {
      "cell_type": "code",
      "source": [
        "check_missingness(df,\"value\")"
      ],
      "metadata": {
        "id": "UJpIe1_9Z1vV"
      },
      "execution_count": null,
      "outputs": []
    },
    {
      "cell_type": "code",
      "source": [
        "import missingno as msno\n",
        "df=sns.load_dataset(\"titanic\")"
      ],
      "metadata": {
        "id": "Dn5kd1bWE9a6"
      },
      "execution_count": null,
      "outputs": []
    },
    {
      "cell_type": "code",
      "source": [
        "msno.matrix(df)"
      ],
      "metadata": {
        "id": "HF9lATpLFRF2"
      },
      "execution_count": null,
      "outputs": []
    },
    {
      "cell_type": "markdown",
      "source": [
        "We have already checked that the column \"age\" has MCAR (Missing Completely at Random) and the column \"deck\" has MAR (Missing at Random)."
      ],
      "metadata": {
        "id": "tCOePgZnF5J8"
      }
    },
    {
      "cell_type": "code",
      "source": [
        "msno.heatmap(df)"
      ],
      "metadata": {
        "id": "n9sYhMu4FXJd"
      },
      "execution_count": null,
      "outputs": []
    },
    {
      "cell_type": "markdown",
      "source": [
        "Through the heatmap, we observed that the column \"embarked\" has a strong correlation with \"embark_town.\" This means that when one column has missing values, the other column is likely to have missing values as well."
      ],
      "metadata": {
        "id": "gDVgx8flGfJ9"
      }
    },
    {
      "cell_type": "markdown",
      "source": [
        "When we check the correlation of \"deck\" with \"age,\" we find a correlation of 0.1, which indicates weakness. However, this does not mean that it is MCAR (Missing Completely at Random). Similarly, the correlation of \"deck\" with \"embarked\" and \"embark_town\" is also weak. Therefore, we cannot classify it as MCAR or MNAR (Missing Not at Random), which means it is MAR (Missing at Random). There are missing values in \"age,\" and apart from \"deck,\" it has no significant relationship with any other column. Therefore, we can decide that it is MCAR. But we will not make this decision solely based on this observation; we will also conduct a Little MCAR test to confirm."
      ],
      "metadata": {
        "id": "Q_w3J3eYIzYB"
      }
    },
    {
      "cell_type": "code",
      "source": [
        "msno.bar(df)"
      ],
      "metadata": {
        "id": "vGDg_zVAGkDA"
      },
      "execution_count": null,
      "outputs": []
    },
    {
      "cell_type": "markdown",
      "source": [
        "When we examine the \"age\" column, we find that it has approximately 20% missing values, while the \"deck\" column has more than 80% missing values."
      ],
      "metadata": {
        "id": "XHYg3Y9jJleS"
      }
    },
    {
      "cell_type": "code",
      "source": [
        "msno.dendrogram(df)"
      ],
      "metadata": {
        "id": "q79F-RlDI8c8"
      },
      "execution_count": null,
      "outputs": []
    },
    {
      "cell_type": "markdown",
      "source": [
        "Let's interpret the dendrogram in the provided image.\n",
        "\n",
        "### Interpretation of the Dendrogram\n",
        "\n",
        "1. **Deck**:\n",
        "   - The `deck` column is joined with other columns at a very high distance, indicating that it has a unique pattern of missing data. This suggests that `deck` has many missing values that are not similarly missing in other columns.\n",
        "\n",
        "2. **Age** and **Alone**:\n",
        "   - `age` and `alone` are clustered together at a lower height, indicating that they have similar missing data patterns. This suggests that rows missing `age` data might also frequently miss the `alone` data.\n",
        "\n",
        "3. **Adult_male, Alive, Class, Who**:\n",
        "   - These columns are grouped together, suggesting they share similar missing data patterns. They are joined at a moderate height, indicating a reasonable level of similarity in their patterns of missingness.\n",
        "\n",
        "4. **Pclass, Embarked, Embark_town, Sex, Survived, SibSp, Parch, Fare**:\n",
        "   - These columns are joined at a lower height, indicating a high similarity in their missing data patterns. It suggests that if a row is missing data in one of these columns, it is likely missing data in others within this group as well.\n",
        "\n",
        "### Key Insights\n",
        "\n",
        "- **Unique Missing Pattern**:\n",
        "  - The `deck` column stands out with a unique missing pattern, different from all other columns, likely due to a high rate of missing values.\n",
        "\n",
        "- **Related Missingness**:\n",
        "  - `Age` and `Alone` columns share similar missing patterns, possibly indicating that the absence of age data might be associated with the absence of alone status data.\n",
        "  - The cluster of `adult_male`, `alive`, `class`, and `who` indicates these columns have correlated missingness.\n",
        "\n",
        "- **High Similarity Group**:\n",
        "  - Columns such as `pclass`, `embarked`, `embark_town`, `sex`, `survived`, `sibsp`, `parch`, and `fare` are very similar in their missing data patterns. This suggests that missing data in one of these columns is often accompanied by missing data in others.\n",
        "\n",
        "### Practical Implications\n",
        "\n",
        "- **Imputation Strategy**:\n",
        "  - Treat columns within the same cluster similarly for imputation purposes. For instance, `age` and `alone` might be imputed together using similar techniques or based on each other.\n",
        "  - Pay special attention to `deck` due to its unique missing pattern, which might require a different imputation strategy.\n",
        "\n",
        "- **Data Quality Improvement**:\n",
        "  - Investigate why `deck` has a different missing pattern and whether this indicates a systemic issue in data collection.\n",
        "  - Understanding which columns tend to be missing together can help in diagnosing and fixing issues in the data collection process.\n",
        "\n",
        "This interpretation helps in understanding the structure and relationships of missing data in your dataset, guiding effective data cleaning and imputation strategies. If you need further details or specific analysis, feel free to ask!"
      ],
      "metadata": {
        "id": "PAM4Z5rbQEWk"
      }
    },
    {
      "cell_type": "code",
      "source": [],
      "metadata": {
        "id": "9V7l0N-IJzCD"
      },
      "execution_count": null,
      "outputs": []
    }
  ]
}