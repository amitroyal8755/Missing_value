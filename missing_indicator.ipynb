{
  "nbformat": 4,
  "nbformat_minor": 0,
  "metadata": {
    "colab": {
      "private_outputs": true,
      "provenance": [],
      "authorship_tag": "ABX9TyPLtyr4pooDTHgJWjAZqaSy",
      "include_colab_link": true
    },
    "kernelspec": {
      "name": "python3",
      "display_name": "Python 3"
    },
    "language_info": {
      "name": "python"
    }
  },
  "cells": [
    {
      "cell_type": "markdown",
      "metadata": {
        "id": "view-in-github",
        "colab_type": "text"
      },
      "source": [
        "<a href=\"https://colab.research.google.com/github/amitroyal8755/Missing_value/blob/main/missing_indicator.ipynb\" target=\"_parent\"><img src=\"https://colab.research.google.com/assets/colab-badge.svg\" alt=\"Open In Colab\"/></a>"
      ]
    },
    {
      "cell_type": "code",
      "execution_count": null,
      "metadata": {
        "id": "Ss1Kw9ac68gK"
      },
      "outputs": [],
      "source": [
        "import numpy as np\n",
        "import pandas as pd\n",
        "import seaborn as sns\n",
        "import matplotlib.pyplot as plt\n",
        "import missingno as msno"
      ]
    },
    {
      "cell_type": "code",
      "source": [
        "df=sns.load_dataset(\"titanic\")"
      ],
      "metadata": {
        "id": "5yAeNZKc9c1D"
      },
      "execution_count": null,
      "outputs": []
    },
    {
      "cell_type": "code",
      "source": [
        "df=df[[\"age\",\"fare\",\"survived\"]]"
      ],
      "metadata": {
        "id": "hYusPw1--lxv"
      },
      "execution_count": null,
      "outputs": []
    },
    {
      "cell_type": "code",
      "source": [
        "#loggiest regression without indicator\n",
        "#LR with indicator\n",
        "  #--> with missing indicator\n",
        "  #--> simple imputer\n",
        ""
      ],
      "metadata": {
        "id": "dCUoftlG-qVu"
      },
      "execution_count": null,
      "outputs": []
    },
    {
      "cell_type": "code",
      "source": [
        "# msno.matrix(df)"
      ],
      "metadata": {
        "id": "K-SEZbhXBgfa"
      },
      "execution_count": null,
      "outputs": []
    },
    {
      "cell_type": "code",
      "source": [
        "x=df.drop(\"survived\",axis=1)\n",
        "y=df[\"survived\"]"
      ],
      "metadata": {
        "id": "e_uO9y-eIbAT"
      },
      "execution_count": null,
      "outputs": []
    },
    {
      "cell_type": "code",
      "source": [
        "from sklearn.model_selection import train_test_split\n",
        "from sklearn.impute import SimpleImputer\n",
        "from sklearn.linear_model import LogisticRegression"
      ],
      "metadata": {
        "id": "SIcV_Uv8H5nZ"
      },
      "execution_count": null,
      "outputs": []
    },
    {
      "cell_type": "code",
      "source": [
        "xtrain,xtest,ytrain,ytest=train_test_split(x,y,random_state=2, test_size=0.2)"
      ],
      "metadata": {
        "id": "5u5ga02LIL9S"
      },
      "execution_count": null,
      "outputs": []
    },
    {
      "cell_type": "code",
      "source": [
        "xtrain.head()"
      ],
      "metadata": {
        "id": "sgW9yK9oIskI"
      },
      "execution_count": null,
      "outputs": []
    },
    {
      "cell_type": "code",
      "source": [
        "si=SimpleImputer()"
      ],
      "metadata": {
        "id": "0XFk6GUkIvp1"
      },
      "execution_count": null,
      "outputs": []
    },
    {
      "cell_type": "code",
      "source": [
        "xtrain_trf=si.fit_transform(xtrain)\n",
        "xtest_trf=si.fit_transform(xtest)"
      ],
      "metadata": {
        "id": "6HL7CDnPIyGQ"
      },
      "execution_count": null,
      "outputs": []
    },
    {
      "cell_type": "code",
      "source": [
        "lr=LogisticRegression()"
      ],
      "metadata": {
        "id": "lXxUVN3SJQ7f"
      },
      "execution_count": null,
      "outputs": []
    },
    {
      "cell_type": "code",
      "source": [
        "clf=lr.fit(xtrain_trf,ytrain)"
      ],
      "metadata": {
        "id": "b-9T00SQKxK0"
      },
      "execution_count": null,
      "outputs": []
    },
    {
      "cell_type": "code",
      "source": [
        "ypred=clf.predict(xtest_trf)"
      ],
      "metadata": {
        "id": "s_ZWB-lfLVOY"
      },
      "execution_count": null,
      "outputs": []
    },
    {
      "cell_type": "code",
      "source": [
        "from sklearn.metrics import accuracy_score"
      ],
      "metadata": {
        "id": "Ve6aiBoHLj3M"
      },
      "execution_count": null,
      "outputs": []
    },
    {
      "cell_type": "code",
      "source": [
        "accuracy_score(ypred,ytest)"
      ],
      "metadata": {
        "id": "9LkyCQeXL2El"
      },
      "execution_count": null,
      "outputs": []
    },
    {
      "cell_type": "code",
      "source": [
        "mi=MissingIndicator()"
      ],
      "metadata": {
        "id": "NfFlWrEUL6CT"
      },
      "execution_count": null,
      "outputs": []
    },
    {
      "cell_type": "code",
      "source": [
        "xtrain_mi=mi.fit_transform(xtrain)\n",
        "xtest_mi=mi.fit_transform(xtest)"
      ],
      "metadata": {
        "id": "4SHxN2erMU3u"
      },
      "execution_count": null,
      "outputs": []
    },
    {
      "cell_type": "code",
      "source": [
        "xtrain[\"indiactor\"]=xtrain_mi\n",
        "xtest[\"indiactor\"]=xtest_mi"
      ],
      "metadata": {
        "id": "z4eO0ek5Meul"
      },
      "execution_count": null,
      "outputs": []
    },
    {
      "cell_type": "code",
      "source": [
        "xtrain.head()"
      ],
      "metadata": {
        "id": "IaymK1jgM0kI"
      },
      "execution_count": null,
      "outputs": []
    },
    {
      "cell_type": "code",
      "source": [
        "xtest.head()"
      ],
      "metadata": {
        "id": "Z_ogDHlQNLbF"
      },
      "execution_count": null,
      "outputs": []
    },
    {
      "cell_type": "code",
      "source": [
        "si1=SimpleImputer()\n",
        "xtrain_si=si1.fit_transform(xtrain)\n",
        "xtest_si=si1.fit_transform(xtest)"
      ],
      "metadata": {
        "id": "pHOlgwqINZFJ"
      },
      "execution_count": null,
      "outputs": []
    },
    {
      "cell_type": "code",
      "source": [
        "lr1=LogisticRegression()"
      ],
      "metadata": {
        "id": "zCyjAJ_TN-Zc"
      },
      "execution_count": null,
      "outputs": []
    },
    {
      "cell_type": "code",
      "source": [
        "clf1=lr1.fit(xtrain_si,ytrain)"
      ],
      "metadata": {
        "id": "raB5MTdvO8kQ"
      },
      "execution_count": null,
      "outputs": []
    },
    {
      "cell_type": "code",
      "source": [
        "ypred1=clf1.predict(xtest_si)"
      ],
      "metadata": {
        "id": "7QX3KtOJPNPJ"
      },
      "execution_count": null,
      "outputs": []
    },
    {
      "cell_type": "code",
      "source": [
        "accuracy_score(ypred1,ytest)"
      ],
      "metadata": {
        "id": "EsYqkF49PV-3"
      },
      "execution_count": null,
      "outputs": []
    },
    {
      "cell_type": "code",
      "source": [
        "si2=SimpleImputer(add_indicator=True)\n",
        "xtrain_si1=si2.fit_transform(xtrain)\n",
        "xtest_si1=si2.fit_transform(xtest)"
      ],
      "metadata": {
        "id": "FLMqm3FZPo8N"
      },
      "execution_count": null,
      "outputs": []
    },
    {
      "cell_type": "code",
      "source": [
        "lr2=LogisticRegression()"
      ],
      "metadata": {
        "id": "ZKidwbMxP91O"
      },
      "execution_count": null,
      "outputs": []
    },
    {
      "cell_type": "code",
      "source": [
        "clf2=lr2.fit(xtrain_si1,ytrain)"
      ],
      "metadata": {
        "id": "uoyAgw-NQB1n"
      },
      "execution_count": null,
      "outputs": []
    },
    {
      "cell_type": "code",
      "source": [
        "ypred2=clf2.predict(xtest_si1)"
      ],
      "metadata": {
        "id": "RCIIoNi4QFcr"
      },
      "execution_count": null,
      "outputs": []
    },
    {
      "cell_type": "code",
      "source": [
        "accuracy_score(ypred2,ytest)"
      ],
      "metadata": {
        "id": "34iDBVCJQb6l"
      },
      "execution_count": null,
      "outputs": []
    },
    {
      "cell_type": "code",
      "source": [],
      "metadata": {
        "id": "wk1XlFUfQkSa"
      },
      "execution_count": null,
      "outputs": []
    },
    {
      "cell_type": "markdown",
      "source": [
        "We can add a missing indicator by creating a separate column in the data, and we can also achieve this by using the \"add_indicator\" parameter in sklearn."
      ],
      "metadata": {
        "id": "NiTO7zjCQvzO"
      }
    },
    {
      "cell_type": "code",
      "source": [],
      "metadata": {
        "id": "ZuAnPFlPSBNc"
      },
      "execution_count": null,
      "outputs": []
    }
  ]
}