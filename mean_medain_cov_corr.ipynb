{
  "nbformat": 4,
  "nbformat_minor": 0,
  "metadata": {
    "colab": {
      "private_outputs": true,
      "provenance": [],
      "authorship_tag": "ABX9TyM9CUJioCGMOp19TwgzV0/r",
      "include_colab_link": true
    },
    "kernelspec": {
      "name": "python3",
      "display_name": "Python 3"
    },
    "language_info": {
      "name": "python"
    }
  },
  "cells": [
    {
      "cell_type": "markdown",
      "metadata": {
        "id": "view-in-github",
        "colab_type": "text"
      },
      "source": [
        "<a href=\"https://colab.research.google.com/github/amitroyal8755/Missing_value/blob/main/mean_medain_cov_corr.ipynb\" target=\"_parent\"><img src=\"https://colab.research.google.com/assets/colab-badge.svg\" alt=\"Open In Colab\"/></a>"
      ]
    },
    {
      "cell_type": "code",
      "execution_count": null,
      "metadata": {
        "id": "o6J4N9wlln5M"
      },
      "outputs": [],
      "source": [
        "import pandas as pd\n",
        "import missingno as msno\n",
        "import matplotlib.pyplot as plt"
      ]
    },
    {
      "cell_type": "code",
      "source": [
        "df=pd.read_csv(\"https://raw.githubusercontent.com/campusx-official/100-days-of-machine-learning/main/day36-imputing-numerical-data/titanic_toy.csv\")"
      ],
      "metadata": {
        "id": "SsyT2xBMmCJt"
      },
      "execution_count": null,
      "outputs": []
    },
    {
      "cell_type": "code",
      "source": [
        "df.head()"
      ],
      "metadata": {
        "id": "scUsg6OjmIxb"
      },
      "execution_count": null,
      "outputs": []
    },
    {
      "cell_type": "code",
      "source": [],
      "metadata": {
        "id": "hjWZwXqmmKoJ"
      },
      "execution_count": null,
      "outputs": []
    },
    {
      "cell_type": "code",
      "source": [
        "msno.bar(df)"
      ],
      "metadata": {
        "id": "p3s87iF0mVso"
      },
      "execution_count": null,
      "outputs": []
    },
    {
      "cell_type": "code",
      "source": [
        "msno.matrix(df)"
      ],
      "metadata": {
        "id": "iVey8S39medi"
      },
      "execution_count": null,
      "outputs": []
    },
    {
      "cell_type": "code",
      "source": [
        "df.isnull().mean()"
      ],
      "metadata": {
        "id": "sQ3emyulmnum"
      },
      "execution_count": null,
      "outputs": []
    },
    {
      "cell_type": "code",
      "source": [
        "#check the mcar mnar or mar"
      ],
      "metadata": {
        "id": "wt4gOpsXmxDA"
      },
      "execution_count": null,
      "outputs": []
    },
    {
      "cell_type": "code",
      "source": [
        "dfna=df.dropna()"
      ],
      "metadata": {
        "id": "OHit8M6_nHSN"
      },
      "execution_count": null,
      "outputs": []
    },
    {
      "cell_type": "code",
      "source": [
        "fig=plt.figure()\n",
        "ax=fig.add_subplot(111)\n",
        "df[\"Age\"].plot(kind=\"kde\", ax=ax)\n",
        "dfna[\"Age\"].plot(kind=\"kde\", ax=ax, color=\"red\")\n",
        "lines,labels=ax.get_legend_handles_labels()\n",
        "ax.legend(lines,labels, loc=\"best\")\n",
        "plt.show()"
      ],
      "metadata": {
        "id": "2CQmXpX_nbIa"
      },
      "execution_count": null,
      "outputs": []
    },
    {
      "cell_type": "markdown",
      "source": [
        "If the distribution does not change, it suggests that the data is missing completely at random (MCAR)."
      ],
      "metadata": {
        "id": "75sSIgYrqO1S"
      }
    },
    {
      "cell_type": "code",
      "source": [
        "from sklearn.model_selection import train_test_split\n",
        "y=df[\"Survived\"]\n",
        "x=df.drop(\"Survived\",axis=1)\n",
        "xtrain,xtest,ytrain,ytest=train_test_split(x,y,test_size=0.02,random_state=2)"
      ],
      "metadata": {
        "id": "kmGttlzgn6Rp"
      },
      "execution_count": null,
      "outputs": []
    },
    {
      "cell_type": "code",
      "source": [
        "for i in df.columns:\n",
        "  print(i)"
      ],
      "metadata": {
        "id": "pSRU5PwzvvnN"
      },
      "execution_count": null,
      "outputs": []
    },
    {
      "cell_type": "code",
      "source": [
        "xtrain,xtest,ytrain,ytest=train_test_split(x,y,test_size=0.02,random_state=2)"
      ],
      "metadata": {
        "id": "vwyreuiwpqtY"
      },
      "execution_count": null,
      "outputs": []
    },
    {
      "cell_type": "code",
      "source": [
        "xtrain.head()"
      ],
      "metadata": {
        "id": "-DWFOPAjvuHw"
      },
      "execution_count": null,
      "outputs": []
    },
    {
      "cell_type": "code",
      "source": [
        "import numpy as np"
      ],
      "metadata": {
        "id": "eyL5BwT5xIMO"
      },
      "execution_count": null,
      "outputs": []
    },
    {
      "cell_type": "code",
      "source": [
        "xtrain[\"Age_mean\"]=xtrain[\"Age\"].fillna(np.mean(xtrain[\"Age\"]))\n",
        "xtrain[\"Age_Median\"]=xtrain[\"Age\"].fillna(np.median(xtrain[\"Age\"]))\n",
        "xtrain[\"Fare_mean\"]=xtrain[\"Fare\"].fillna(np.mean(xtrain[\"Fare\"]))\n",
        "xtrain[\"Fare_Median\"]=xtrain[\"Fare\"].fillna(np.median(xtrain[\"Fare\"]))"
      ],
      "metadata": {
        "id": "UTZ_mHkuxGnW"
      },
      "execution_count": null,
      "outputs": []
    },
    {
      "cell_type": "code",
      "source": [
        "xtrain.head()"
      ],
      "metadata": {
        "id": "Uuve_FMgxYSV"
      },
      "execution_count": null,
      "outputs": []
    },
    {
      "cell_type": "code",
      "source": [
        "#Age vs Age_mean\n",
        "#Age vs Age_median\n",
        "#Fare vs Fare_mean\n",
        "#Fare vs Fare_median"
      ],
      "metadata": {
        "id": "YobfUfbVxnoK"
      },
      "execution_count": null,
      "outputs": []
    },
    {
      "cell_type": "code",
      "source": [
        "fig=plt.figure()\n",
        "ax=fig.add_subplot(111)\n",
        "xtrain[\"Age\"].plot(kind=\"kde\", ax=ax)\n",
        "xtrain[\"Age_mean\"].plot(kind=\"kde\",ax=ax,color=\"red\")\n",
        "lines,labels=ax.get_legend_handles_labels()\n",
        "ax.legend(lines,labels,loc=\"best\")\n",
        "plt.show()"
      ],
      "metadata": {
        "id": "K1_MysAyydKU"
      },
      "execution_count": null,
      "outputs": []
    },
    {
      "cell_type": "markdown",
      "source": [
        "**Age Distribution (Blue Line):** This line represents the original distribution of the Age variable in the dataset.\n",
        "\n",
        "**Age_mean Distribution (Red Line):** This line represents the distribution of the Age variable after mean imputation.\n",
        "\n",
        "Distributions of Age and Age_mean show noticeable differences, indicating that the imputation process did significantly alter the distribution of the data."
      ],
      "metadata": {
        "id": "rBlfdC-e6c-r"
      }
    },
    {
      "cell_type": "code",
      "source": [
        "fig=plt.figure()\n",
        "ax=fig.add_subplot(111)\n",
        "xtrain[\"Age\"].plot(kind=\"kde\",ax=ax)\n",
        "xtrain[\"Age_Median\"].plot(kind=\"kde\",ax=ax,color=\"red\")\n",
        "lines,labels=ax.get_legend_handles_labels()\n",
        "ax.legend(lines,labels,loc=\"best\")\n",
        "plt.show()"
      ],
      "metadata": {
        "id": "5CgyHvJVzXOI"
      },
      "execution_count": null,
      "outputs": []
    },
    {
      "cell_type": "markdown",
      "source": [
        "**Age Distribution (Blue Line):** This line represents the original distribution of the Age variable in the dataset.\n",
        "\n",
        "**Age_Median Distribution (Red Line):** This line represents the distribution of the Age variable after median imputation.\n",
        "\n",
        "Distributions of Age and Age_Median are very similar, indicating that the imputation process did not significantly alter the distribution of the data."
      ],
      "metadata": {
        "id": "RY1OS-oz6PwJ"
      }
    },
    {
      "cell_type": "code",
      "source": [
        "fig=plt.figure()\n",
        "ax=fig.add_subplot(111)\n",
        "xtrain[\"Fare\"].plot(kind=\"kde\",ax=ax)\n",
        "xtrain[\"Fare_Median\"].plot(kind=\"kde\",ax=ax,color=\"red\")\n",
        "lines,labels=ax.get_legend_handles_labels()\n",
        "ax.legend(lines,labels,loc=\"best\")\n",
        "plt.show()"
      ],
      "metadata": {
        "id": "QC_qNpzK1g8r"
      },
      "execution_count": null,
      "outputs": []
    },
    {
      "cell_type": "markdown",
      "source": [
        "**Fare Distribution (Blue Line):** This line represents the original distribution of the Fare variable in the dataset.\n",
        "\n",
        "**Fare_Median Distribution (Red Line):** This line represents the distribution of the Fare variable after median imputation.\n",
        "\n",
        "Distributions of Fare and Fare_Median are very similar, indicating that the imputation process did not significantly alter the distribution of the data."
      ],
      "metadata": {
        "id": "u8-yd2NW5-p5"
      }
    },
    {
      "cell_type": "code",
      "source": [
        "fig=plt.figure()\n",
        "ax=fig.add_subplot(111)\n",
        "xtrain[\"Fare\"].plot(kind=\"kde\",ax=ax)\n",
        "xtrain[\"Fare_mean\"].plot(kind=\"kde\",ax=ax,color=\"red\")\n",
        "lines,labels=ax.get_legend_handles_labels()\n",
        "ax.legend(lines,labels,loc=\"best\")\n",
        "plt.show()"
      ],
      "metadata": {
        "id": "CmMln9b33D0a"
      },
      "execution_count": null,
      "outputs": []
    },
    {
      "cell_type": "markdown",
      "source": [
        "\n",
        "**Fare Distribution (Blue Line)**: This line represents the original distribution of the Fare variable in dataset.\n",
        "\n",
        "**Fare_mean Distribution (Red Line):** This line represents the distribution of the Fare variable after imputation of mean.\n",
        "\n",
        "Distributions of Fare and Fare_mean are very similar, this indicates that imputation process did not significantly alter the distribution of the data."
      ],
      "metadata": {
        "id": "coGR0dVV4q1C"
      }
    },
    {
      "cell_type": "code",
      "source": [
        "xtrain.columns"
      ],
      "metadata": {
        "id": "xz7larEr3QnF"
      },
      "execution_count": null,
      "outputs": []
    },
    {
      "cell_type": "code",
      "source": [
        "variances=xtrain[['Age', 'Fare','Age_mean', 'Age_Median', 'Fare_mean','Fare_Median']].var()\n",
        "variances"
      ],
      "metadata": {
        "id": "1rCJJWMt7aaL"
      },
      "execution_count": null,
      "outputs": []
    },
    {
      "cell_type": "markdown",
      "source": [
        "\n",
        "### Variance Analysis Before and After Imputation\n",
        "\n",
        "Let's analyze the variances of the `Age` and `Fare` variables before and after different imputation methods.\n",
        "\n",
        "**Age Variance (Original):** The variance of the original Age values is 208.956540.\n",
        "- This is the baseline variance of the Age variable in the dataset, reflecting the spread of the original Age values.\n",
        "\n",
        "**Fare Variance (Original):** The variance of the original Fare values is 2560.172306.\n",
        "- This is the baseline variance of the Fare variable in the dataset, reflecting the spread of the original Fare values.\n",
        "\n",
        "**Age_mean Variance (After Mean Imputation):** The variance of the Age values after mean imputation is 167.261084.\n",
        "- The variance of the Age values has decreased after mean imputation, suggesting that mean imputation has reduced the spread of Age values, likely because the mean imputation replaced missing values with the same mean value, reducing variability.\n",
        "\n",
        "**Age_Median Variance (After Median Imputation):** The variance of the Age values after median imputation is 208.956540.\n",
        "- The variance remains unchanged after median imputation, indicating that median imputation did not alter the spread of the Age values. This suggests that the median imputation maintained the original variability of the data.\n",
        "\n",
        "**Fare_mean Variance (After Mean Imputation):** The variance of the Fare values after mean imputation is 2428.053322.\n",
        "- The variance of the Fare values has decreased after mean imputation, suggesting that mean imputation has reduced the spread of Fare values, likely because the mean imputation replaced missing values with the same mean value, reducing variability.\n",
        "\n",
        "**Fare_Median Variance (After Median Imputation):** The variance of the Fare values after median imputation is 2560.172306.\n",
        "- The variance remains unchanged after median imputation, indicating that median imputation did not alter the spread of the Fare values. This suggests that the median imputation maintained the original variability of the data.\n",
        "\n",
        "### Interpretation of Changes:\n",
        "- **Mean Imputation:** Both Age and Fare variances have decreased after mean imputation. This reduction in variance indicates that mean imputation reduced the spread of values by replacing missing values with a constant mean, which reduces overall variability.\n",
        "- **Median Imputation:** Both Age and Fare variances remained the same after median imputation. This indicates that median imputation preserved the original spread of the data, maintaining the original variability.\n",
        "\n",
        "The unchanged variances after median imputation imply that this method preserved the original data distribution more effectively than mean imputation, which resulted in a decrease in the overall variances.\n",
        "\n",
        "---"
      ],
      "metadata": {
        "id": "0pDbp1io-adl"
      }
    },
    {
      "cell_type": "code",
      "source": [
        "xtrain.cov()"
      ],
      "metadata": {
        "id": "BDES304q8IqR"
      },
      "execution_count": null,
      "outputs": []
    },
    {
      "cell_type": "markdown",
      "source": [
        "\n",
        "#### Interpretation of Specific Pairs:\n",
        "\n",
        "1. **Age vs Fare_mean:**\n",
        "   - Covariance is 73.029582.\n",
        "   - The relationship remains positive after mean imputation, indicating a good consistency with the original positive relationship.\n",
        "\n",
        "2. **Age vs Fare_Median:**\n",
        "   - Covariance is 77.452762.\n",
        "   - The relationship remains positive after median imputation, maintaining the original positive relationship.\n",
        "\n",
        "3. **Fare vs Age_mean:**\n",
        "   - Covariance is 61.638027.\n",
        "   - The relationship remains positive after mean imputation, reflecting a good consistency with the original positive relationship.\n",
        "\n",
        "4. **Fare vs Age_Median:**\n",
        "   - Covariance is 77.452762.\n",
        "   - The relationship remains positive after median imputation, maintaining the original positive relationship.\n",
        "\n",
        "### Summary:\n",
        "\n",
        "- **Age vs Fare_mean:** Shows a positive relationship. After imputation, it also shows positive (good).\n",
        "- **Age vs Fare_Median:** Shows a positive relationship. After imputation, it also shows positive (good).\n",
        "- **Fare vs Age_mean:** Shows a positive relationship. After imputation, it also shows positive (good).\n",
        "- **Fare vs Age_Median:** Shows a positive relationship. After imputation, it also shows positive (good).\n",
        "\n",
        "The positive covariance values indicate that the relationships between the pairs of variables remain consistent after both mean and median imputations, preserving the original positive relationships."
      ],
      "metadata": {
        "id": "iF6RQP61CIID"
      }
    },
    {
      "cell_type": "code",
      "source": [
        "xtrain.corr()"
      ],
      "metadata": {
        "id": "C7uFBmzzBKZa"
      },
      "execution_count": null,
      "outputs": []
    },
    {
      "cell_type": "markdown",
      "source": [
        "#### Interpretation of Strength Changes:\n",
        "\n",
        "1. **Age vs Fare_mean:**\n",
        "   - Original correlation: 0.098578\n",
        "   - After mean imputation: 0.096291\n",
        "   - **Strength:** Decreased\n",
        "\n",
        "2. **Age vs Fare_Median:**\n",
        "   - Original correlation: 0.098578\n",
        "   - After median imputation: 0.098578\n",
        "   - **Strength:** No change\n",
        "\n",
        "3. **Fare vs Age_mean:**\n",
        "   - Original correlation: 0.098578\n",
        "   - After mean imputation: 0.093781\n",
        "   - **Strength:** Decreased\n",
        "\n",
        "4. **Fare vs Age_Median:**\n",
        "   - Original correlation: 0.098578\n",
        "   - After median imputation: 0.098578\n",
        "   - **Strength:** No change\n",
        "\n",
        "### Summary:\n",
        "\n",
        "- **Age vs Fare_mean:** Shows a positive relationship. After imputation, the strength decreased.\n",
        "- **Age vs Fare_Median:** Shows a positive relationship. After imputation, the strength did not change.\n",
        "- **Fare vs Age_mean:** Shows a positive relationship. After imputation, the strength decreased.\n",
        "- **Fare vs Age_Median:** Shows a positive relationship. After imputation, the strength did not change.\n",
        "\n",
        "The analysis indicates that the strength of the relationships remains mostly consistent after median imputation, whereas mean imputation results in a slight decrease in the strength of the relationships."
      ],
      "metadata": {
        "id": "EmLjyUXlD-p_"
      }
    },
    {
      "cell_type": "code",
      "source": [
        "xtrain.boxplot()"
      ],
      "metadata": {
        "id": "jrgi0mDrCxSy"
      },
      "execution_count": null,
      "outputs": []
    },
    {
      "cell_type": "code",
      "source": [
        "xtrain[['Age','Age_mean','Age_Median']].boxplot()\n",
        "plt.show()"
      ],
      "metadata": {
        "id": "Ous8FcqnElgM"
      },
      "execution_count": null,
      "outputs": []
    },
    {
      "cell_type": "markdown",
      "source": [
        "1. **Age (Original Data)**:\n",
        "   - The data has a broad range of values, and there are some outliers present.\n",
        "   - The distribution seems fairly symmetric, with the median line approximately in the middle of the box.\n",
        "   - The interquartile range (IQR) is moderate, indicating a reasonable spread of the middle 50% of the data.\n",
        "\n",
        "2. **Age_mean (Mean Imputed Data)**:\n",
        "   - Imputing missing values with the mean introduces many outliers. This is evident from the numerous dots above the upper whisker.\n",
        "   - The first quartile (Q1) and third quartile (Q3) are closer together, which indicates a compression of the central values.\n",
        "   - The median remains approximately the same as the original data.\n",
        "\n",
        "3. **Age_Median (Median Imputed Data)**:\n",
        "   - Imputing with the median seems to maintain a similar spread to the original data, with fewer outliers compared to the mean imputation.\n",
        "   - The IQR remains similar to the original data, indicating that the spread of the central 50% is maintained.\n",
        "   - The median line is in the middle of the box, similar to the original data.\n",
        "\n",
        "**Summary**:\n",
        "- Imputing missing values with the mean can introduce a significant number of outliers and compress the IQR.\n",
        "- Imputing with the median maintains the distribution's characteristics more closely, with fewer outliers and a similar spread of the central data.\n"
      ],
      "metadata": {
        "id": "Pov7iBkNGL6N"
      }
    },
    {
      "cell_type": "code",
      "source": [
        "xtrain[['Fare','Fare_mean',\n",
        "       'Fare_Median']].boxplot()\n",
        "plt.show()"
      ],
      "metadata": {
        "id": "8HkljCbLFLi_"
      },
      "execution_count": null,
      "outputs": []
    },
    {
      "cell_type": "markdown",
      "source": [
        "For the 'Fare' variable, both mean and median imputations have a minimal impact on the central tendency (median) and the spread (IQR) of the data."
      ],
      "metadata": {
        "id": "eDMDBwpNIyqF"
      }
    },
    {
      "cell_type": "code",
      "source": [
        " #Now using the sk learn"
      ],
      "metadata": {
        "id": "EztXSIBNF0Eq"
      },
      "execution_count": null,
      "outputs": []
    },
    {
      "cell_type": "code",
      "source": [
        "from sklearn.model_selection import train_test_split\n",
        "y=df[\"Survived\"]\n",
        "x=df.drop(\"Survived\",axis=1)\n",
        "xtrain,xtest,ytrain,ytest=train_test_split(x,y,test_size=0.02,random_state=2)"
      ],
      "metadata": {
        "id": "mimPBonGRykX"
      },
      "execution_count": null,
      "outputs": []
    },
    {
      "cell_type": "code",
      "source": [
        "\n",
        "from sklearn.impute import SimpleImputer\n",
        "from sklearn.compose import ColumnTransformer"
      ],
      "metadata": {
        "id": "XY3mtXWcJuvZ"
      },
      "execution_count": null,
      "outputs": []
    },
    {
      "cell_type": "code",
      "source": [
        "imputer1=SimpleImputer(strategy=\"mean\")\n",
        "imputer2=SimpleImputer(strategy=\"median\")"
      ],
      "metadata": {
        "id": "CenNQdFRJ1MX"
      },
      "execution_count": null,
      "outputs": []
    },
    {
      "cell_type": "code",
      "source": [
        "trf=ColumnTransformer([(\"age_mean\",imputer2,[\"Age\"]),(\"fare_median\",imputer1,[\"Fare\"])],remainder=\"passthrough\")"
      ],
      "metadata": {
        "id": "mQNpyGRWKNJ3"
      },
      "execution_count": null,
      "outputs": []
    },
    {
      "cell_type": "code",
      "source": [
        "trf_data=trf.fit_transform(xtrain)"
      ],
      "metadata": {
        "id": "2YyUsjnPPPcY"
      },
      "execution_count": null,
      "outputs": []
    },
    {
      "cell_type": "code",
      "source": [
        "x_train=pd.DataFrame(trf_data,columns=[i for i in xtrain.columns])"
      ],
      "metadata": {
        "id": "MoPN1JKFPT3g"
      },
      "execution_count": null,
      "outputs": []
    },
    {
      "cell_type": "code",
      "source": [
        "x_train.head()"
      ],
      "metadata": {
        "id": "xh5XSwdVRUIa"
      },
      "execution_count": null,
      "outputs": []
    },
    {
      "cell_type": "code",
      "source": [],
      "metadata": {
        "id": "oh47clHDUmIR"
      },
      "execution_count": null,
      "outputs": []
    }
  ]
}